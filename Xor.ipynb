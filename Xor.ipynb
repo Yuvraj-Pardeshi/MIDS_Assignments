{
 "cells": [
  {
   "cell_type": "code",
   "execution_count": 26,
   "id": "0450b8b0",
   "metadata": {},
   "outputs": [],
   "source": [
    "# from keras.models import Sequential\n",
    "# from keras.layers.core import Dense, Dropout, Activation\n",
    "# from keras.optimizers import SGD\n",
    "# import numpy as np \n",
    "\n",
    "# X = np.array([[0,0],[0,1],[1,0],[1,1]])\n",
    "# y = np.array([[0],[1],[1],[0]])\n",
    "\n",
    "# model = Sequential()\n",
    "# model.add(Dense(8, input_dim=2))\n",
    "# model.add(Activation('tanh'))\n",
    "# model.add(Dense(1))\n",
    "# model.add(Activation('sigmoid'))\n",
    "\n",
    "# sgd = SGD(lr=0.1)\n",
    "# model.compile(loss='binary_crossentropy', optimizer=sgd)\n",
    "\n",
    "# model.fit(X, y,  batch_size=1, epochs=1000)\n",
    "# print(model.predict(X))"
   ]
  },
  {
   "cell_type": "code",
   "execution_count": 27,
   "id": "e14ed297",
   "metadata": {},
   "outputs": [],
   "source": [
    "# output=model.predict(X).round()\n",
    "# for i in range(len(X)):\n",
    "#      print(f\"Input: {X[i]}, Output: {output[i]}\")"
   ]
  },
  {
   "cell_type": "code",
   "execution_count": 2,
   "id": "9991abf8",
   "metadata": {},
   "outputs": [
    {
     "name": "stdout",
     "output_type": "stream",
     "text": [
      "Error: 0.4997197741719887\n",
      "Error: 0.11797851168531844\n",
      "Error: 0.05460524323600076\n",
      "Error: 0.03987026851912683\n",
      "Error: 0.03258736401338966\n",
      "Error: 0.028073676467777305\n",
      "Error: 0.024941615704675606\n",
      "Error: 0.02261435954564498\n",
      "Error: 0.020803316841516463\n",
      "Error: 0.01934596897030967\n"
     ]
    }
   ],
   "source": [
    "import numpy as np\n",
    "\n",
    "# sigmoid activation function\n",
    "def sigmoid(x):\n",
    "    return 1 / (1 + np.exp(-x))\n",
    "\n",
    "# derivative of sigmoid function\n",
    "def sigmoid_derivative(x):\n",
    "    return x * (1 - x)\n",
    "\n",
    "# input dataset\n",
    "X = np.array([[0, 0], [0, 1], [1, 0], [1, 1]])\n",
    "\n",
    "# output dataset\n",
    "y = np.array([[0], [1], [1], [0]])\n",
    "\n",
    "# initialize weights randomly with mean 0\n",
    "synapse_0 = 2 * np.random.random((2, 4)) - 1\n",
    "synapse_1 = 2 * np.random.random((4, 1)) - 1\n",
    "\n",
    "# train the network\n",
    "for i in range(10000):\n",
    "\n",
    "    # forward propagation\n",
    "    layer_0 = X\n",
    "    layer_1 = sigmoid(np.dot(layer_0, synapse_0))\n",
    "    layer_2 = sigmoid(np.dot(layer_1, synapse_1))\n",
    "\n",
    "    # calculate error\n",
    "    layer_2_error = y - layer_2\n",
    "\n",
    "    if (i % 1000) == 0:\n",
    "        print(\"Error: \" + str(np.mean(np.abs(layer_2_error))))\n",
    "\n",
    "    # backpropagation\n",
    "    layer_2_delta = layer_2_error * sigmoid_derivative(layer_2)\n",
    "    layer_1_error = layer_2_delta.dot(synapse_1.T)\n",
    "    layer_1_delta = layer_1_error * sigmoid_derivative(layer_1)\n",
    "\n",
    "    # update weights\n",
    "    synapse_1 += layer_1.T.dot(layer_2_delta)\n",
    "    synapse_0 += layer_0.T.dot(layer_1_delta)\n"
   ]
  },
  {
   "cell_type": "code",
   "execution_count": 4,
   "id": "d75490d1",
   "metadata": {},
   "outputs": [
    {
     "name": "stdout",
     "output_type": "stream",
     "text": [
      "Input: [0 0] Output: [0.]\n",
      "Input: [0 1] Output: [1.]\n",
      "Input: [1 0] Output: [1.]\n",
      "Input: [1 1] Output: [0.]\n"
     ]
    }
   ],
   "source": [
    "test_input = np.array([[0, 0], [0, 1], [1, 0], [1, 1]])\n",
    "for i in range(len(test_input)):\n",
    "    prediction = sigmoid(np.dot(sigmoid(np.dot(test_input[i], synapse_0)), synapse_1))\n",
    "    print(f\"Input: {test_input[i]} Output: {prediction.round()}\")"
   ]
  },
  {
   "cell_type": "code",
   "execution_count": 6,
   "id": "03245e54",
   "metadata": {},
   "outputs": [
    {
     "data": {
      "text/plain": [
       "array([[ 0.83850649,  0.76112089, -0.51898282, -0.09949471],\n",
       "       [-0.09587507,  0.16827247, -0.40602491, -0.08733996]])"
      ]
     },
     "execution_count": 6,
     "metadata": {},
     "output_type": "execute_result"
    }
   ],
   "source": [
    "nums = 2*np.random.random((2,4))-1\n",
    "nums"
   ]
  },
  {
   "cell_type": "code",
   "execution_count": null,
   "id": "fa93d169",
   "metadata": {},
   "outputs": [],
   "source": []
  }
 ],
 "metadata": {
  "kernelspec": {
   "display_name": "Python 3 (ipykernel)",
   "language": "python",
   "name": "python3"
  },
  "language_info": {
   "codemirror_mode": {
    "name": "ipython",
    "version": 3
   },
   "file_extension": ".py",
   "mimetype": "text/x-python",
   "name": "python",
   "nbconvert_exporter": "python",
   "pygments_lexer": "ipython3",
   "version": "3.9.12"
  }
 },
 "nbformat": 4,
 "nbformat_minor": 5
}
