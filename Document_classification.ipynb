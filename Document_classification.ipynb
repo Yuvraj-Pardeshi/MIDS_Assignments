{
 "cells": [
  {
   "cell_type": "code",
   "execution_count": 1,
   "id": "cc39cf48",
   "metadata": {},
   "outputs": [
    {
     "name": "stdout",
     "output_type": "stream",
     "text": [
      "Collecting textblob\n",
      "  Downloading textblob-0.17.1-py2.py3-none-any.whl (636 kB)\n",
      "Requirement already satisfied: nltk>=3.1 in c:\\users\\sandesh\\anaconda3\\lib\\site-packages (from textblob) (3.7)\n",
      "Requirement already satisfied: regex>=2021.8.3 in c:\\users\\sandesh\\anaconda3\\lib\\site-packages (from nltk>=3.1->textblob) (2022.3.15)\n",
      "Requirement already satisfied: click in c:\\users\\sandesh\\anaconda3\\lib\\site-packages (from nltk>=3.1->textblob) (8.0.4)\n",
      "Requirement already satisfied: tqdm in c:\\users\\sandesh\\anaconda3\\lib\\site-packages (from nltk>=3.1->textblob) (4.64.0)\n",
      "Requirement already satisfied: joblib in c:\\users\\sandesh\\anaconda3\\lib\\site-packages (from nltk>=3.1->textblob) (1.1.0)\n",
      "Requirement already satisfied: colorama in c:\\users\\sandesh\\anaconda3\\lib\\site-packages (from click->nltk>=3.1->textblob) (0.4.4)\n",
      "Installing collected packages: textblob\n",
      "Successfully installed textblob-0.17.1\n",
      "Note: you may need to restart the kernel to use updated packages.\n"
     ]
    }
   ],
   "source": [
    "pip install textblob"
   ]
  },
  {
   "cell_type": "code",
   "execution_count": 2,
   "id": "d7d08898",
   "metadata": {},
   "outputs": [],
   "source": [
    "# Importing TextBlob\n",
    "from textblob import TextBlob"
   ]
  },
  {
   "cell_type": "code",
   "execution_count": 7,
   "id": "23eff6c7",
   "metadata": {},
   "outputs": [
    {
     "name": "stdout",
     "output_type": "stream",
     "text": [
      "Sentiment(polarity=0.2984623015873016, subjectivity=0.5168650793650794)\n"
     ]
    }
   ],
   "source": [
    "# Preparing an input sentence\n",
    "sentence = '''Whether it's your first time or you're just looking for tips to improve your kissing game, you might be wondering what the best way to kiss a girl is. Where do you put your hands? Tongue or no tongue? How do you make the kiss as memorable and enjoyable for her as possible? Don't worry—we've gathered all of the best kissing tricks and advice you'll ever need right here. With a little flirting and some easy techniques, your next kiss will sweep a girl straight off her feet. '''\n",
    "\n",
    "# Creating a textblob object and assigning the sentiment property\n",
    "analysis = TextBlob(sentence).sentiment\n",
    "print(analysis)"
   ]
  },
  {
   "cell_type": "code",
   "execution_count": 8,
   "id": "1341e312",
   "metadata": {},
   "outputs": [
    {
     "name": "stdout",
     "output_type": "stream",
     "text": [
      "0.2984623015873016\n",
      "0.5168650793650794\n"
     ]
    }
   ],
   "source": [
    "analysisPol = TextBlob(sentence).polarity\n",
    "analysisSub = TextBlob(sentence).subjectivity\n",
    "\n",
    "print(analysisPol)\n",
    "print(analysisSub)"
   ]
  },
  {
   "cell_type": "code",
   "execution_count": 9,
   "id": "e2e78e2b",
   "metadata": {},
   "outputs": [],
   "source": [
    "def classify_sentiment(text):\n",
    "    testimonial = TextBlob(text)\n",
    "    polarity = testimonial.sentiment.polarity\n",
    "    if polarity > 0:\n",
    "        return \"Positive\"\n",
    "    elif polarity < 0:\n",
    "        return \"Negative\"\n",
    "    else:\n",
    "        return \"Neutral\""
   ]
  },
  {
   "cell_type": "code",
   "execution_count": 10,
   "id": "fd917a68",
   "metadata": {},
   "outputs": [
    {
     "data": {
      "text/plain": [
       "'Positive'"
      ]
     },
     "execution_count": 10,
     "metadata": {},
     "output_type": "execute_result"
    }
   ],
   "source": [
    "classify_sentiment(sentence)"
   ]
  },
  {
   "cell_type": "code",
   "execution_count": 14,
   "id": "8e973e6b",
   "metadata": {},
   "outputs": [],
   "source": [
    "from textblob import TextBlob\n",
    "# Importing the NaiveBayesAnalyzer classifier from NLTK\n",
    "from textblob.sentiments import NaiveBayesAnalyzer"
   ]
  },
  {
   "cell_type": "code",
   "execution_count": 25,
   "id": "c6013ae2",
   "metadata": {},
   "outputs": [
    {
     "data": {
      "text/plain": [
       "'Wondering what turns a girl on? Whether you\\'re new to the game or just want to add some spice to your current routine, we\\'re here to help you get your girl revved up and ready to go. It\\'s actually easier and less mysterious than you might think. Read on for expert advice on the best turn-ons for girls. \\n1\\nMake her feel you find her attractive. You know that warm, fuzzy feeling you get when you find out that someone thinks you\\'re good looking? That\\'s what you want to create for her. The fact that you think she\\'s lovely to look at is a significant turn-on. Here\\'s how to communicate it without going overboard:\\n\\n    Say \"Hey, pretty lady\" or \"Hello, beautiful\" when you greet her. It\\'s simple and short, but direct (and potentially patronising - use with caution).\\n    Pay her a compliment.[1] Lower the volume and tone of your voice slightly, and say something like \"You look amazing today\" or \"I love your eyes.\"\\nBe the best version of yourself. Be the person who\\'s honestly kind, a person who respects her and thinks she\\'s more beautiful than the most picturesque sunset. Be the person who works hard and makes it easier for her to work hard, by helping to shoulder her burdens.[2] This will all mostly keep you from turning her off![3]\\n\\n Be confident, even if you don\\'t act like it. Some girls like a person who is nervous and even klutzy around her, but don\\'t overdo it. If the girl is shy, be confident; if the girl is confident, feel free to act somewhat shy. Keep your shoulders straight and your chin high, and don\\'t be afraid to look her in the eyes. You\\'re communicating through your body language that you\\'re strong, brave, and worthy of her attention\\n\\nClean yourself up. Shower, put on deodorant, brush your teeth and wear clean clothes. If you\\'re feeling up to it, you can also do your hair and put on a light spray of cologne or perfume. Knowing that you\\'re at your physical best will help you act confident and in-charge.\\n\\nKnow how to treat a girl like a lady. Save the dirty jokes and discussions of bodily functions for your friends. When you\\'re with the girl you like, be polite. Use good table manners, hold the door open for her, and say please and thank you. Good manners aren\\'t necessarily attractive, but bad manners are definitely unattractive, so play it safe.\\n\\nSet the mood. Getting aroused is environmental and mental. Light candles, turn up the room\\'s temperature, drink a little wine, play sexy music, or dim the lights. Setting the mood can turn both of you one and make all the difference. \\n\\nStart with slow, friendly, gentle touches outside of the bedroom. You can do these in passing, at the end of a date, while you\\'re watching a movie, whenever â€” the point is that they don\\'t have to be saved for when you\\'re already making out. They can, however, indicate that you\\'re interested in doing a little more.\\n\\nStart with slow, friendly, gentle touches outside of the bedroom. You can do these in passing, at the end of a date, while you\\'re watching a movie, whenever â€” the point is that they don\\'t have to be saved for when you\\'re already making out. They can, however, indicate that you\\'re interested in doing a little more\\n\\n Whisper in her ear. Ears are an erogenous zone for all genders, and the light pressure of your breath will probably feel good. Saying the right things will also turn her on. Try something like: \"I couldn\\'t stop thinking about you today\".\\n\\n Touch her in and outside the bedroom. If you\\'re fairly sure it will be welcomed, try touching her intimately. A few places to touch her include:\\n\\n    Her neck: You can gently run your thumb over her hairline if your arm is already around her shoulders, or offer to give her a neck rub. Keep your motions slow and light.[9]\\n    Her wrists: Lightly stroke the inside of her wrist or her palm. A few slow kisses on the inside of the wrist could work, too.[10]\\n    Her leg: This works only if you\\'re both sitting down. Place your hand on her thigh or knee and let it rest there lightly. If she seems receptive, you can try slowly moving your thumb back and forth over her leg, keeping the rest of your hand where it is.[11]\\n    Her scalp: The scalp is a sensitive area for most people, and the light (repeat: light, not hard) tugging that comes from you playing with her hair will feel nice. Run your fingers through it, twirl it, or stroke it.\\n Warm your girl up. The key to turning a girl on is being patient. As fast as people usually get turned on, some ladies need about that much build up. This means that you\\'ll have to lay a little ground work and take the seduction part nice and slow.[13]\\n\\n    A huge part of warming her up, of course, is making her feel comfortable and safe. You\\'re going to see a lot of steps below about respecting her, seeking consent, and otherwise doing things that you might not think of as \"turn-ons\". Don\\'t neglect them, they\\'re important.[14] Sex is very mental, as well as mutual, and if you help them by making it so that they don\\'t have to worry, as well as understand what you mean, then that\\'s half the battle.\\n\\n Give her an amazing kiss. If it\\'s done right, a kiss can be the most effective way of turning a girl on. Keep your breath fresh with some gum or mouthwash and keep your lips loose. Tight, puckered lips is how you kiss your grandma! You should also keep the tongue action delicate (at first). The motions should be light, soft and alternate between fast and slow.[16]\\n\\n    Know where to put your hands. The back of her neck, the sides of her face, or around her waist are all good areas for your hands to rest during a kiss.\\n\\nUse some variety. If you find an area where she likes to be touched, don\\'t overuse it. Instead, back away from it for a while and slowly make your way back, touching everything around and up to it. The anticipation will make it more intense when you finally do touch her.'"
      ]
     },
     "execution_count": 25,
     "metadata": {},
     "output_type": "execute_result"
    }
   ],
   "source": [
    "f = open(\"sentiment.txt\", \"r\")\n",
    "data=f.read()\n",
    "data"
   ]
  },
  {
   "cell_type": "code",
   "execution_count": 26,
   "id": "9dad79fa",
   "metadata": {},
   "outputs": [
    {
     "name": "stdout",
     "output_type": "stream",
     "text": [
      "Sentiment(classification='pos', p_pos=0.9999999999911742, p_neg=8.863817441870177e-12)\n"
     ]
    }
   ],
   "source": [
    "# Applying the NaiveBayesAnalyzer\n",
    "blob_object = TextBlob(data, analyzer=NaiveBayesAnalyzer())\n",
    "# Running sentiment analysis\n",
    "analysis = blob_object.sentiment\n",
    "print(analysis)"
   ]
  },
  {
   "cell_type": "code",
   "execution_count": 27,
   "id": "8aa066cc",
   "metadata": {},
   "outputs": [
    {
     "data": {
      "text/plain": [
       "'Positive'"
      ]
     },
     "execution_count": 27,
     "metadata": {},
     "output_type": "execute_result"
    }
   ],
   "source": [
    "classify_sentiment(data)"
   ]
  },
  {
   "cell_type": "code",
   "execution_count": null,
   "id": "19021c3c",
   "metadata": {},
   "outputs": [],
   "source": []
  }
 ],
 "metadata": {
  "kernelspec": {
   "display_name": "Python 3 (ipykernel)",
   "language": "python",
   "name": "python3"
  },
  "language_info": {
   "codemirror_mode": {
    "name": "ipython",
    "version": 3
   },
   "file_extension": ".py",
   "mimetype": "text/x-python",
   "name": "python",
   "nbconvert_exporter": "python",
   "pygments_lexer": "ipython3",
   "version": "3.9.12"
  }
 },
 "nbformat": 4,
 "nbformat_minor": 5
}
